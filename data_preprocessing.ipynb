{
  "metadata": {
    "kernelspec": {
      "language": "python",
      "display_name": "Python 3",
      "name": "python3"
    },
    "language_info": {
      "name": "python",
      "version": "3.10.13",
      "mimetype": "text/x-python",
      "codemirror_mode": {
        "name": "ipython",
        "version": 3
      },
      "pygments_lexer": "ipython3",
      "nbconvert_exporter": "python",
      "file_extension": ".py"
    },
    "kaggle": {
      "accelerator": "none",
      "dataSources": [
        {
          "sourceId": 7590738,
          "sourceType": "datasetVersion",
          "datasetId": 4418374
        }
      ],
      "dockerImageVersionId": 30715,
      "isInternetEnabled": true,
      "language": "python",
      "sourceType": "notebook",
      "isGpuEnabled": false
    },
    "colab": {
      "name": "data_preprocessing",
      "provenance": []
    }
  },
  "nbformat_minor": 0,
  "nbformat": 4,
  "cells": [
    {
      "source": [
        "\n",
        "# IMPORTANT: RUN THIS CELL IN ORDER TO IMPORT YOUR KAGGLE DATA SOURCES\n",
        "# TO THE CORRECT LOCATION (/kaggle/input) IN YOUR NOTEBOOK,\n",
        "# THEN FEEL FREE TO DELETE THIS CELL.\n",
        "# NOTE: THIS NOTEBOOK ENVIRONMENT DIFFERS FROM KAGGLE'S PYTHON\n",
        "# ENVIRONMENT SO THERE MAY BE MISSING LIBRARIES USED BY YOUR\n",
        "# NOTEBOOK.\n",
        "\n",
        "import os\n",
        "import sys\n",
        "from tempfile import NamedTemporaryFile\n",
        "from urllib.request import urlopen\n",
        "from urllib.parse import unquote, urlparse\n",
        "from urllib.error import HTTPError\n",
        "from zipfile import ZipFile\n",
        "import tarfile\n",
        "import shutil\n",
        "\n",
        "CHUNK_SIZE = 40960\n",
        "DATA_SOURCE_MAPPING = '1-3m-linkedin-jobs-and-skills-2024:https%3A%2F%2Fstorage.googleapis.com%2Fkaggle-data-sets%2F4418374%2F7590738%2Fbundle%2Farchive.zip%3FX-Goog-Algorithm%3DGOOG4-RSA-SHA256%26X-Goog-Credential%3Dgcp-kaggle-com%2540kaggle-161607.iam.gserviceaccount.com%252F20240605%252Fauto%252Fstorage%252Fgoog4_request%26X-Goog-Date%3D20240605T055432Z%26X-Goog-Expires%3D259200%26X-Goog-SignedHeaders%3Dhost%26X-Goog-Signature%3D3cbfa0f0aa38f2975101789af244cd885eeb13c81c11d915f3ae8f78c32d7892665fbd4046eb3e008bf15c543face85376635aed19ffe070b1cf68611029134df0822497ed93493797ef25cb201f839df949996a1f5f803fdd44e323512d70cdeb2e057c78c375998a94898c28c7ee2290bbe9c9033c44fbc20c1aae233aae4057e2e9a2ac4370f9526cd62e7aeb8e8dff9bf252f2be1cb95b8a94b8a5b5568eb7c3b99dc7d91c0791047d081280695d7d8870b1ac89380b7d3ec33f2b7fd4fc22cafce275f1f2f5490932169e4e2ffff270dc9316f18475ea2c7e5b78eba18d817d89e861759fbc3a88b69648e66573b17a9e86d12ca7cdd31823084b1f50f5'\n",
        "\n",
        "KAGGLE_INPUT_PATH='/kaggle/input'\n",
        "KAGGLE_WORKING_PATH='/kaggle/working'\n",
        "KAGGLE_SYMLINK='kaggle'\n",
        "\n",
        "!umount /kaggle/input/ 2> /dev/null\n",
        "shutil.rmtree('/kaggle/input', ignore_errors=True)\n",
        "os.makedirs(KAGGLE_INPUT_PATH, 0o777, exist_ok=True)\n",
        "os.makedirs(KAGGLE_WORKING_PATH, 0o777, exist_ok=True)\n",
        "\n",
        "try:\n",
        "  os.symlink(KAGGLE_INPUT_PATH, os.path.join(\"..\", 'input'), target_is_directory=True)\n",
        "except FileExistsError:\n",
        "  pass\n",
        "try:\n",
        "  os.symlink(KAGGLE_WORKING_PATH, os.path.join(\"..\", 'working'), target_is_directory=True)\n",
        "except FileExistsError:\n",
        "  pass\n",
        "\n",
        "for data_source_mapping in DATA_SOURCE_MAPPING.split(','):\n",
        "    directory, download_url_encoded = data_source_mapping.split(':')\n",
        "    download_url = unquote(download_url_encoded)\n",
        "    filename = urlparse(download_url).path\n",
        "    destination_path = os.path.join(KAGGLE_INPUT_PATH, directory)\n",
        "    try:\n",
        "        with urlopen(download_url) as fileres, NamedTemporaryFile() as tfile:\n",
        "            total_length = fileres.headers['content-length']\n",
        "            print(f'Downloading {directory}, {total_length} bytes compressed')\n",
        "            dl = 0\n",
        "            data = fileres.read(CHUNK_SIZE)\n",
        "            while len(data) > 0:\n",
        "                dl += len(data)\n",
        "                tfile.write(data)\n",
        "                done = int(50 * dl / int(total_length))\n",
        "                sys.stdout.write(f\"\\r[{'=' * done}{' ' * (50-done)}] {dl} bytes downloaded\")\n",
        "                sys.stdout.flush()\n",
        "                data = fileres.read(CHUNK_SIZE)\n",
        "            if filename.endswith('.zip'):\n",
        "              with ZipFile(tfile) as zfile:\n",
        "                zfile.extractall(destination_path)\n",
        "            else:\n",
        "              with tarfile.open(tfile.name) as tarfile:\n",
        "                tarfile.extractall(destination_path)\n",
        "            print(f'\\nDownloaded and uncompressed: {directory}')\n",
        "    except HTTPError as e:\n",
        "        print(f'Failed to load (likely expired) {download_url} to path {destination_path}')\n",
        "        continue\n",
        "    except OSError as e:\n",
        "        print(f'Failed to load {download_url} to path {destination_path}')\n",
        "        continue\n",
        "\n",
        "print('Data source import complete.')\n"
      ],
      "metadata": {
        "id": "kR0tx_z19rxs"
      },
      "cell_type": "code",
      "outputs": [],
      "execution_count": null
    },
    {
      "cell_type": "raw",
      "source": [],
      "metadata": {
        "_uuid": "8f2839f25d086af736a60e9eeb907d3b93b6e0e5",
        "_cell_guid": "b1076dfc-b9ad-4769-8c92-a6c4dae69d19",
        "id": "uYRmCFmu9rxw"
      }
    },
    {
      "cell_type": "markdown",
      "source": [
        "# melihat jumlah skill"
      ],
      "metadata": {
        "id": "-pd3xuyy9rxw"
      }
    },
    {
      "cell_type": "code",
      "source": [
        "import pandas as pd\n",
        "\n",
        "file_path = \"/kaggle/input/1-3m-linkedin-jobs-and-skills-2024/job_skills.csv\"\n",
        "df = pd.read_csv(file_path)\n",
        "df.head(5)"
      ],
      "metadata": {
        "execution": {
          "iopub.status.busy": "2024-05-31T08:46:12.309539Z",
          "iopub.execute_input": "2024-05-31T08:46:12.309946Z",
          "iopub.status.idle": "2024-05-31T08:46:30.401547Z",
          "shell.execute_reply.started": "2024-05-31T08:46:12.309913Z",
          "shell.execute_reply": "2024-05-31T08:46:30.400423Z"
        },
        "trusted": true,
        "id": "h41nte6m9rxy"
      },
      "execution_count": null,
      "outputs": []
    },
    {
      "cell_type": "code",
      "source": [
        "skills_column = df.iloc[:, 1]\n",
        "skills = skills_column.str.split(',').explode()"
      ],
      "metadata": {
        "execution": {
          "iopub.status.busy": "2024-05-31T08:49:46.030865Z",
          "iopub.execute_input": "2024-05-31T08:49:46.031835Z",
          "iopub.status.idle": "2024-05-31T08:49:56.74941Z",
          "shell.execute_reply.started": "2024-05-31T08:49:46.031796Z",
          "shell.execute_reply": "2024-05-31T08:49:56.748281Z"
        },
        "trusted": true,
        "id": "e314T8rJ9rxz"
      },
      "execution_count": null,
      "outputs": []
    },
    {
      "cell_type": "code",
      "source": [
        "unique_skills = skills.str.strip().unique()\n",
        "num_unique_skills = len(unique_skills)\n",
        "print(f'jumlah skill yang tersedia: {num_unique_skills}')"
      ],
      "metadata": {
        "execution": {
          "iopub.status.busy": "2024-05-31T08:50:28.443525Z",
          "iopub.execute_input": "2024-05-31T08:50:28.443935Z",
          "iopub.status.idle": "2024-05-31T08:50:51.14295Z",
          "shell.execute_reply.started": "2024-05-31T08:50:28.443903Z",
          "shell.execute_reply": "2024-05-31T08:50:51.141832Z"
        },
        "trusted": true,
        "id": "Zg8htNqK9rxz"
      },
      "execution_count": null,
      "outputs": []
    },
    {
      "cell_type": "code",
      "source": [
        "unique_skills_df = pd.DataFrame(unique_skills, columns=['Skill'])\n",
        "unique_skills_df.head()"
      ],
      "metadata": {
        "execution": {
          "iopub.status.busy": "2024-05-31T08:57:00.048757Z",
          "iopub.execute_input": "2024-05-31T08:57:00.049165Z",
          "iopub.status.idle": "2024-05-31T08:57:00.061045Z",
          "shell.execute_reply.started": "2024-05-31T08:57:00.049132Z",
          "shell.execute_reply": "2024-05-31T08:57:00.059859Z"
        },
        "trusted": true,
        "id": "strToqkb9rx0"
      },
      "execution_count": null,
      "outputs": []
    },
    {
      "cell_type": "code",
      "source": [
        "print(\"Jumlah duplikasi: \", unique_skills_df.duplicated().sum())"
      ],
      "metadata": {
        "execution": {
          "iopub.status.busy": "2024-05-31T08:58:33.844207Z",
          "iopub.execute_input": "2024-05-31T08:58:33.844546Z",
          "iopub.status.idle": "2024-05-31T08:58:36.594352Z",
          "shell.execute_reply.started": "2024-05-31T08:58:33.844517Z",
          "shell.execute_reply": "2024-05-31T08:58:36.593007Z"
        },
        "trusted": true,
        "id": "64XWDv379rx0"
      },
      "execution_count": null,
      "outputs": []
    },
    {
      "cell_type": "code",
      "source": [
        "output_file_path = 'unique_skills.csv'\n",
        "unique_skills_df.to_csv(output_file_path, index=False)"
      ],
      "metadata": {
        "execution": {
          "iopub.status.busy": "2024-05-31T09:00:38.227468Z",
          "iopub.execute_input": "2024-05-31T09:00:38.228224Z",
          "iopub.status.idle": "2024-05-31T09:00:45.365487Z",
          "shell.execute_reply.started": "2024-05-31T09:00:38.22818Z",
          "shell.execute_reply": "2024-05-31T09:00:45.364319Z"
        },
        "trusted": true,
        "id": "QzMYR1CF9rx0"
      },
      "execution_count": null,
      "outputs": []
    }
  ]
}